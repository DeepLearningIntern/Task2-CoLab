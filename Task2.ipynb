{
  "nbformat": 4,
  "nbformat_minor": 0,
  "metadata": {
    "colab": {
      "provenance": []
    },
    "kernelspec": {
      "name": "python3",
      "display_name": "Python 3"
    },
    "language_info": {
      "name": "python"
    }
  },
  "cells": [
    {
      "cell_type": "code",
      "execution_count": 2,
      "metadata": {
        "colab": {
          "base_uri": "https://localhost:8080/"
        },
        "id": "4rsyuzOoQyYd",
        "outputId": "2de34380-2604-4bb9-c6be-b37ef2c274f2"
      },
      "outputs": [
        {
          "output_type": "stream",
          "name": "stdout",
          "text": [
            "Hello World!\n"
          ]
        }
      ],
      "source": [
        "print(\"Hello World!\")"
      ]
    },
    {
      "cell_type": "markdown",
      "source": [
        "# Dot Product Explanation\n",
        "\n",
        "The dot product between two vectors $\\mathbf{a}$ and $\\mathbf{b}$ of length $n$ is given by:\n",
        "\n",
        "$\n",
        "\\mathbf{a} \\cdot \\mathbf{b} = \\sum_{i=1}^n a_i b_i\n",
        "$\n",
        "\n",
        "where\n",
        "\n",
        "$\n",
        "\\mathbf{a} = (a_1, a_2, \\ldots, a_n), \\quad\n",
        "\\mathbf{b} = (b_1, b_2, \\ldots, b_n).\n",
        "$\n",
        "\n",
        "Essentially, you multiply corresponding components of each vector and sum those products to get a single scalar value."
      ],
      "metadata": {
        "id": "d-n7gQZpSuTd"
      }
    },
    {
      "source": [
        "print(\"Thanks for reading this ❤️\")"
      ],
      "cell_type": "code",
      "metadata": {
        "colab": {
          "base_uri": "https://localhost:8080/"
        },
        "id": "g5_3r5FjccZi",
        "outputId": "e11690dc-3ada-4ca2-a196-49d85ec84840"
      },
      "execution_count": 5,
      "outputs": [
        {
          "output_type": "stream",
          "name": "stdout",
          "text": [
            "Thanks for reading this ❤️\n"
          ]
        }
      ]
    }
  ]
}